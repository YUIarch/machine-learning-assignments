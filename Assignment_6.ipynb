{
 "cells": [
  {
   "cell_type": "markdown",
   "metadata": {},
   "source": [
    "# Assignment 6\n",
    "\n",
    "\n",
    "You will demonstrate your ability to create and train Neural Network models.\n",
    "\n",
    "You will *only* use `Dense` layers."
   ]
  },
  {
   "cell_type": "markdown",
   "metadata": {},
   "source": [
    "# Objectives\n",
    "\n",
    "This is a \"doing\" rather than \"thinking\" assignment.\n",
    "\n",
    "Your goal is to checkpoint your skills to see if they are sufficient to create, train, and evaluate\n",
    "Neural Network models."
   ]
  },
  {
   "cell_type": "markdown",
   "metadata": {},
   "source": [
    "# Submission guidelines\n",
    "\n",
    "There are some specified tasks you must carry out, which involve playing around with a number of models.\n",
    "\n",
    "We want to be able to evaluate *your best model* on a holdout dataset.\n",
    "\n",
    "To faciliate this,\n",
    "in addition to providing your notebook, we will ask you to create the subroutine `MyModel`\n",
    "described below **and submit one additional file** to be described.\n",
    "\n",
    "You will choose your *best model* and using the code provided in the cell below, save the model to a file and **submit the file with your saved model** along with the notebook."
   ]
  },
  {
   "cell_type": "markdown",
   "metadata": {},
   "source": [
    "The code cell below **should be the last cell in your notebook**.\n",
    "\n",
    "The last cell:\n",
    "- defines a routine to save a \"model\" object to a file\n",
    "- defines a routine to load a model object from a file\n",
    "- asks you to save the model for one of the tasks\n",
    "- asks you to run `MyModel`\n",
    "\n",
    "`MyModel` takes as arguments\n",
    "- a test set: `x_test`, `y_test`\n",
    "- name of a file containing a model object for a specified task\n",
    "\n",
    "`MyModel` will load the file (i.e., restore the model) and run predictions on the test set.\n",
    "\n",
    "You will need to complete the body of the `MyModel` definition."
   ]
  },
  {
   "cell_type": "markdown",
   "metadata": {},
   "source": [
    "We will run `MyModel` in that cell in order to load your saved model and run it\n",
    "- We will not run any other cell in the notebook so if you need imports or anything else. put it there!  \n",
    "- We **will not** run cells that train your model: that would take too long)\n",
    "- If you need the holdout data to be transformed\n",
    "    - the transformations should be called from `MyModel`\n",
    "    - we will not run a cell to make the transformation happen"
   ]
  },
  {
   "cell_type": "markdown",
   "metadata": {},
   "source": [
    "# HINT\n",
    "**This is literally a give-away:** https://www.tensorflow.org/tutorials/keras/classification"
   ]
  },
  {
   "cell_type": "markdown",
   "metadata": {},
   "source": [
    "## Additional submission\n",
    "\n",
    "In addition to your notebook, please also submit the file whose name is stored in `model_path`.\n",
    "\n",
    "**DO NOT** rename the file!\n"
   ]
  },
  {
   "cell_type": "markdown",
   "metadata": {},
   "source": [
    "Here is the cell **that must appear as the last cell in your notebook**"
   ]
  },
  {
   "cell_type": "markdown",
   "metadata": {},
   "source": [
    "# The problem\n",
    "\n",
    "You will create several Neural Networks to solve a classification problem that is a slight variant\n",
    "of the MNIST digit classification problem.\n",
    "\n",
    "The assignment really involves little more than playing around with that example.\n",
    "\n",
    "The objective is to ensure that you are able to write and run simple programs using Keras."
   ]
  },
  {
   "cell_type": "markdown",
   "metadata": {},
   "source": [
    "# The Data\n",
    "\n",
    "The dataset is called Fashion MNIST.\n",
    "\n",
    "Rather than classifying images into one of ten digits,\n",
    "you will classify images of clothing items into one of ten classes.\n",
    "\n",
    "Here's the code to get the data."
   ]
  },
  {
   "cell_type": "code",
   "execution_count": 1,
   "metadata": {},
   "outputs": [],
   "source": [
    "from tensorflow.keras.datasets import mnist, fashion_mnist, cifar10\n",
    "\n",
    "(x_train, y_train), (x_test, y_test) = fashion_mnist.load_data()"
   ]
  },
  {
   "cell_type": "markdown",
   "metadata": {},
   "source": [
    "# Tasks\n",
    "\n",
    "For each task\n",
    "- create the Neural Network as specified\n",
    "- train it on the training data set\n",
    "- evaluate it on the test data set\n"
   ]
  },
  {
   "cell_type": "markdown",
   "metadata": {},
   "source": [
    "## Task 1\n",
    "\n",
    "Create a one layer Neural Network to perform classification (e.g., logistic regression) as we demonstrated in class.\n",
    "\n",
    "No layers other than the one for classification."
   ]
  },
  {
   "cell_type": "code",
   "execution_count": 2,
   "metadata": {},
   "outputs": [],
   "source": [
    "from tensorflow.keras.datasets import mnist, fashion_mnist, cifar10\n",
    "import tensorflow as tf\n",
    "from tensorflow import keras\n",
    "\n",
    "(x_train, y_train), (x_test, y_test) = fashion_mnist.load_data()\n"
   ]
  },
  {
   "cell_type": "code",
   "execution_count": 3,
   "metadata": {},
   "outputs": [
    {
     "name": "stdout",
     "output_type": "stream",
     "text": [
      "Train on 60000 samples\n",
      "Epoch 1/10\n",
      "60000/60000 [==============================] - 3s 45us/sample - loss: 0.8435 - accuracy: 0.7072\n",
      "Epoch 2/10\n",
      "60000/60000 [==============================] - 3s 56us/sample - loss: 0.6991 - accuracy: 0.7465\n",
      "Epoch 3/10\n",
      "60000/60000 [==============================] - 3s 43us/sample - loss: 0.6711 - accuracy: 0.7537\n",
      "Epoch 4/10\n",
      "60000/60000 [==============================] - 3s 42us/sample - loss: 0.6559 - accuracy: 0.7589\n",
      "Epoch 5/10\n",
      "60000/60000 [==============================] - 2s 41us/sample - loss: 0.6453 - accuracy: 0.7606\n",
      "Epoch 6/10\n",
      "60000/60000 [==============================] - 3s 50us/sample - loss: 0.6399 - accuracy: 0.7628\n",
      "Epoch 7/10\n",
      "60000/60000 [==============================] - 3s 43us/sample - loss: 0.6316 - accuracy: 0.7644\n",
      "Epoch 8/10\n",
      "60000/60000 [==============================] - 3s 43us/sample - loss: 0.6293 - accuracy: 0.7666\n",
      "Epoch 9/10\n",
      "60000/60000 [==============================] - 3s 42us/sample - loss: 0.6233 - accuracy: 0.7686\n",
      "Epoch 10/10\n",
      "60000/60000 [==============================] - 3s 43us/sample - loss: 0.6213 - accuracy: 0.7684\n"
     ]
    },
    {
     "data": {
      "text/plain": [
       "<tensorflow.python.keras.callbacks.History at 0x265558fd128>"
      ]
     },
     "execution_count": 3,
     "metadata": {},
     "output_type": "execute_result"
    }
   ],
   "source": [
    "x_train = x_train / 255.0\n",
    "\n",
    "x_test = x_test / 255.0\n",
    "\n",
    "model = keras.Sequential([\n",
    "    keras.layers.Flatten(input_shape=(28, 28)),\n",
    "    keras.layers.Dense(10,activation='relu')\n",
    "])\n",
    "model.compile(optimizer='adam',\n",
    "              loss=tf.keras.losses.SparseCategoricalCrossentropy(from_logits=True),\n",
    "              metrics=['accuracy'])\n",
    "model.fit(x_train, y_train, epochs=10)"
   ]
  },
  {
   "cell_type": "code",
   "execution_count": 4,
   "metadata": {},
   "outputs": [
    {
     "name": "stdout",
     "output_type": "stream",
     "text": [
      "10000/10000 - 0s - loss: 0.6767 - accuracy: 0.7484\n",
      "\n",
      "Test accuracy: 0.7484\n"
     ]
    }
   ],
   "source": [
    "test_loss, test_acc = model.evaluate(x_test,  y_test, verbose=2)\n",
    "\n",
    "print('\\nTest accuracy:', test_acc)"
   ]
  },
  {
   "cell_type": "markdown",
   "metadata": {},
   "source": [
    "# Task 2 (9 parts)\n",
    "\n",
    "You will evaluate out of sample accuracy for several models and create a plot\n",
    "- For number of layers in 2, 3,4 (more if you like)\n",
    "- For number of units per layer in 10, 50, 200 (more if you like)\n",
    "    - Using *same* number of units for each layer\n",
    "\n",
    "The combination of choices for number of layers and number of units per layer gives you (at least) 9 models.\n",
    "\n",
    "- Evaluate the out of sample accuracy for each of the 9 models.\n",
    "- Present the results in a table (created by code)\n",
    "- Create a *single plot*\n",
    "    - Horizontal axis: number of units per layer\n",
    "    - Vertical axis: out of sample accuracy\n",
    "    - 3 traces in the plot, one for each choice of number of layers\n",
    "        - e.g., one line in the plot for L=2, another line in the plot for L=3, and another line for L=4\n"
   ]
  },
  {
   "cell_type": "code",
   "execution_count": 5,
   "metadata": {},
   "outputs": [],
   "source": [
    "(x_train, y_train), (x_test, y_test) = fashion_mnist.load_data()\n",
    "\n",
    "x_train = x_train / 255.0\n",
    "\n",
    "x_test = x_test / 255.0"
   ]
  },
  {
   "cell_type": "code",
   "execution_count": 6,
   "metadata": {},
   "outputs": [
    {
     "name": "stdout",
     "output_type": "stream",
     "text": [
      "Train on 60000 samples\n",
      "Epoch 1/5\n",
      "60000/60000 [==============================] - 3s 58us/sample - loss: 0.7192 - accuracy: 0.7481\n",
      "Epoch 2/5\n",
      "60000/60000 [==============================] - 4s 62us/sample - loss: 0.4724 - accuracy: 0.8345\n",
      "Epoch 3/5\n",
      "60000/60000 [==============================] - 3s 47us/sample - loss: 0.4393 - accuracy: 0.8465\n",
      "Epoch 4/5\n",
      "60000/60000 [==============================] - 3s 46us/sample - loss: 0.4192 - accuracy: 0.8526\n",
      "Epoch 5/5\n",
      "60000/60000 [==============================] - 3s 47us/sample - loss: 0.4067 - accuracy: 0.8569\n",
      "10000/10000 - 0s - loss: 0.4443 - accuracy: 0.8455\n",
      "Train on 60000 samples\n",
      "Epoch 1/5\n",
      "60000/60000 [==============================] - 3s 57us/sample - loss: 0.5656 - accuracy: 0.8100\n",
      "Epoch 2/5\n",
      "60000/60000 [==============================] - 3s 55us/sample - loss: 0.4124 - accuracy: 0.8553\n",
      "Epoch 3/5\n",
      "60000/60000 [==============================] - 3s 56us/sample - loss: 0.3732 - accuracy: 0.8669\n",
      "Epoch 4/5\n",
      "60000/60000 [==============================] - 3s 55us/sample - loss: 0.3476 - accuracy: 0.8748\n",
      "Epoch 5/5\n",
      "60000/60000 [==============================] - 3s 56us/sample - loss: 0.3295 - accuracy: 0.8806\n",
      "10000/10000 - 0s - loss: 0.3667 - accuracy: 0.8707\n",
      "Train on 60000 samples\n",
      "Epoch 1/5\n",
      "60000/60000 [==============================] - 5s 81us/sample - loss: 0.5212 - accuracy: 0.8193\n",
      "Epoch 2/5\n",
      "60000/60000 [==============================] - 4s 74us/sample - loss: 0.3722 - accuracy: 0.8654\n",
      "Epoch 3/5\n",
      "60000/60000 [==============================] - 4s 74us/sample - loss: 0.3325 - accuracy: 0.8795\n",
      "Epoch 4/5\n",
      "60000/60000 [==============================] - 4s 74us/sample - loss: 0.3104 - accuracy: 0.8862\n",
      "Epoch 5/5\n",
      "60000/60000 [==============================] - 4s 73us/sample - loss: 0.2919 - accuracy: 0.8931\n",
      "10000/10000 - 0s - loss: 0.3394 - accuracy: 0.8777\n",
      "[0.8455, 0.8707, 0.8777]\n"
     ]
    }
   ],
   "source": [
    "test_acc_L={\"2\":[],\"3\":[],\"4\":[]}\n",
    "for x in [10,50,200]:\n",
    "    model = keras.Sequential([\n",
    "        keras.layers.Flatten(input_shape=(28, 28)),\n",
    "        keras.layers.Dense(x,activation='relu'),\n",
    "        keras.layers.Dense(x)])\n",
    "    model.compile(optimizer='adam',\n",
    "              loss=tf.keras.losses.SparseCategoricalCrossentropy(from_logits=True),\n",
    "              metrics=['accuracy'])\n",
    "    model.fit(x_train, y_train, epochs=5)\n",
    "    \n",
    "    test_loss, test_acc = model.evaluate(x_test,  y_test, verbose=2)\n",
    "    test_acc_L[\"2\"].append(test_acc)\n",
    "print(test_acc_L[\"2\"])"
   ]
  },
  {
   "cell_type": "code",
   "execution_count": 7,
   "metadata": {},
   "outputs": [
    {
     "name": "stdout",
     "output_type": "stream",
     "text": [
      "Train on 60000 samples\n",
      "Epoch 1/5\n",
      "60000/60000 [==============================] - 3s 52us/sample - loss: 0.6950 - accuracy: 0.7577\n",
      "Epoch 2/5\n",
      "60000/60000 [==============================] - 3s 47us/sample - loss: 0.4910 - accuracy: 0.8293\n",
      "Epoch 3/5\n",
      "60000/60000 [==============================] - 3s 52us/sample - loss: 0.4522 - accuracy: 0.8426\n",
      "Epoch 4/5\n",
      "60000/60000 [==============================] - 3s 56us/sample - loss: 0.4325 - accuracy: 0.8488\n",
      "Epoch 5/5\n",
      "60000/60000 [==============================] - 3s 51us/sample - loss: 0.4196 - accuracy: 0.8533\n",
      "10000/10000 - 0s - loss: 0.4484 - accuracy: 0.8411\n",
      "Train on 60000 samples\n",
      "Epoch 1/5\n",
      "60000/60000 [==============================] - 4s 62us/sample - loss: 0.5589 - accuracy: 0.8091\n",
      "Epoch 2/5\n",
      "60000/60000 [==============================] - 4s 73us/sample - loss: 0.4031 - accuracy: 0.8574\n",
      "Epoch 3/5\n",
      "60000/60000 [==============================] - 4s 75us/sample - loss: 0.3635 - accuracy: 0.8677\n",
      "Epoch 4/5\n",
      "60000/60000 [==============================] - 5s 79us/sample - loss: 0.3374 - accuracy: 0.8776\n",
      "Epoch 5/5\n",
      "60000/60000 [==============================] - 4s 59us/sample - loss: 0.3212 - accuracy: 0.8816\n",
      "10000/10000 - 0s - loss: 0.3598 - accuracy: 0.8735\n",
      "Train on 60000 samples\n",
      "Epoch 1/5\n",
      "60000/60000 [==============================] - 5s 91us/sample - loss: 0.5034 - accuracy: 0.8244\n",
      "Epoch 2/5\n",
      "60000/60000 [==============================] - 5s 89us/sample - loss: 0.3637 - accuracy: 0.8665\n",
      "Epoch 3/5\n",
      "60000/60000 [==============================] - 5s 87us/sample - loss: 0.3278 - accuracy: 0.8776\n",
      "Epoch 4/5\n",
      "60000/60000 [==============================] - 5s 86us/sample - loss: 0.3033 - accuracy: 0.8879\n",
      "Epoch 5/5\n",
      "60000/60000 [==============================] - 5s 86us/sample - loss: 0.2831 - accuracy: 0.8932\n",
      "10000/10000 - 0s - loss: 0.3359 - accuracy: 0.8775\n",
      "[0.8411, 0.8735, 0.8775]\n"
     ]
    }
   ],
   "source": [
    "for x in [10,50,200]:\n",
    "    model = keras.Sequential([\n",
    "        keras.layers.Flatten(input_shape=(28, 28)),\n",
    "        keras.layers.Dense(x,activation='relu'),\n",
    "        keras.layers.Dense(x,activation='relu'),\n",
    "        keras.layers.Dense(x)])\n",
    "    model.compile(optimizer='adam',\n",
    "              loss=tf.keras.losses.SparseCategoricalCrossentropy(from_logits=True),\n",
    "              metrics=['accuracy'])\n",
    "    model.fit(x_train, y_train, epochs=5)\n",
    "    \n",
    "    test_loss, test_acc = model.evaluate(x_test,  y_test, verbose=2)\n",
    "    test_acc_L[\"3\"].append(test_acc)\n",
    "print(test_acc_L[\"3\"])"
   ]
  },
  {
   "cell_type": "code",
   "execution_count": 8,
   "metadata": {
    "scrolled": true
   },
   "outputs": [
    {
     "name": "stdout",
     "output_type": "stream",
     "text": [
      "Train on 60000 samples\n",
      "Epoch 1/5\n",
      "60000/60000 [==============================] - 3s 57us/sample - loss: 0.8996 - accuracy: 0.6746\n",
      "Epoch 2/5\n",
      "60000/60000 [==============================] - 3s 51us/sample - loss: 0.5049 - accuracy: 0.8229\n",
      "Epoch 3/5\n",
      "60000/60000 [==============================] - 3s 51us/sample - loss: 0.4627 - accuracy: 0.8400\n",
      "Epoch 4/5\n",
      "60000/60000 [==============================] - 3s 50us/sample - loss: 0.4362 - accuracy: 0.8464\n",
      "Epoch 5/5\n",
      "60000/60000 [==============================] - 3s 51us/sample - loss: 0.4200 - accuracy: 0.8526\n",
      "10000/10000 - 0s - loss: 0.4625 - accuracy: 0.8407\n",
      "Train on 60000 samples\n",
      "Epoch 1/5\n",
      "60000/60000 [==============================] - 4s 65us/sample - loss: 0.5677 - accuracy: 0.8084\n",
      "Epoch 2/5\n",
      "60000/60000 [==============================] - 4s 61us/sample - loss: 0.3934 - accuracy: 0.8586\n",
      "Epoch 3/5\n",
      "60000/60000 [==============================] - 4s 61us/sample - loss: 0.3569 - accuracy: 0.8701\n",
      "Epoch 4/5\n",
      "60000/60000 [==============================] - 4s 62us/sample - loss: 0.3311 - accuracy: 0.8781\n",
      "Epoch 5/5\n",
      "60000/60000 [==============================] - 4s 61us/sample - loss: 0.3147 - accuracy: 0.8839\n",
      "10000/10000 - 0s - loss: 0.3691 - accuracy: 0.8664\n",
      "Train on 60000 samples\n",
      "Epoch 1/5\n",
      "60000/60000 [==============================] - 6s 104us/sample - loss: 0.5142 - accuracy: 0.8155\n",
      "Epoch 2/5\n",
      "60000/60000 [==============================] - 6s 97us/sample - loss: 0.3680 - accuracy: 0.8649\n",
      "Epoch 3/5\n",
      "60000/60000 [==============================] - 6s 106us/sample - loss: 0.3308 - accuracy: 0.8786\n",
      "Epoch 4/5\n",
      "60000/60000 [==============================] - 6s 103us/sample - loss: 0.3104 - accuracy: 0.8849\n",
      "Epoch 5/5\n",
      "60000/60000 [==============================] - 6s 106us/sample - loss: 0.2897 - accuracy: 0.8920\n",
      "10000/10000 - 0s - loss: 0.3508 - accuracy: 0.8712\n",
      "[0.8407, 0.8664, 0.8712]\n"
     ]
    }
   ],
   "source": [
    "for x in [10,50,200]:\n",
    "    model = keras.Sequential([\n",
    "        keras.layers.Flatten(input_shape=(28, 28)),\n",
    "        keras.layers.Dense(x,activation='relu'),\n",
    "        keras.layers.Dense(x,activation='relu'),\n",
    "        keras.layers.Dense(x,activation='relu'),\n",
    "        keras.layers.Dense(x)])\n",
    "    model.compile(optimizer='adam',\n",
    "              loss=tf.keras.losses.SparseCategoricalCrossentropy(from_logits=True),\n",
    "              metrics=['accuracy'])\n",
    "    model.fit(x_train, y_train, epochs=5)\n",
    "    \n",
    "    test_loss, test_acc = model.evaluate(x_test,  y_test, verbose=2)\n",
    "    test_acc_L[\"4\"].append(test_acc)\n",
    "print(test_acc_L[\"4\"])"
   ]
  },
  {
   "cell_type": "code",
   "execution_count": 14,
   "metadata": {},
   "outputs": [
    {
     "data": {
      "image/png": "[encoded data removed]",
      "text/plain": [
       "<Figure size 720x1440 with 2 Axes>"
      ]
     },
     "metadata": {
      "needs_background": "light"
     },
     "output_type": "display_data"
    }
   ],
   "source": [
    "import matplotlib.pyplot as plt\n",
    "fig, axs =plt.subplots(2,1,figsize=(10,20))\n",
    "\n",
    "col_labels = ['unit=20','unit=50','unit=200']\n",
    "row_labels = ['L2','L3','L4']\n",
    "table_vals = [test_acc_L[\"2\"],test_acc_L[\"3\"],test_acc_L[\"4\"]]\n",
    "row_colors = ['red','gold','green']\n",
    "axs[0].axis('off')\n",
    "the_table = axs[0].table(cellText=table_vals, \n",
    "                     rowLabels=row_labels, colLabels=col_labels,\n",
    "                     rowColours=row_colors, colColours=row_colors)\n",
    "\n",
    "for l in [2,3,4]:\n",
    "    axs[1].step([10,50,200],test_acc_L[str(l)],label='L={0:.0f}'.format(l))\n",
    "\n",
    "plt.legend(loc='best')\n",
    "plt.xlabel('number of units per layer')\n",
    "plt.ylabel('out of sample accuracy')\n",
    "plt.show()\n"
   ]
  },
  {
   "cell_type": "code",
   "execution_count": 15,
   "metadata": {},
   "outputs": [
    {
     "name": "stdout",
     "output_type": "stream",
     "text": [
      "Directory .\\assignment6_best_model already exists, files will be over-written.\n",
      "Model saved in directory .\\assignment6_best_model; create an archive of this directory and submit with your assignment.\n"
     ]
    }
   ],
   "source": [
    "import os\n",
    "from tensorflow.keras.models import load_model\n",
    "\n",
    "modelName = \"assignment6_best_model\"\n",
    "model_path = os.path.join(\".\", modelName)   \n",
    "\n",
    "def saveModel(model, model_path): \n",
    "    try:\n",
    "        os.makedirs(model_path)\n",
    "    except OSError:\n",
    "        print(\"Directory {dir:s} already exists, files will be over-written.\".format(dir=model_path))\n",
    "        \n",
    "    # Save JSON config to disk\n",
    "    json_config = model.to_json()\n",
    "    with open(os.path.join(model_path, 'config.json'), 'w') as json_file:\n",
    "        json_file.write(json_config)\n",
    "    # Save weights to disk\n",
    "    model.save_weights(os.path.join(model_path, 'weights.h5'))\n",
    "    \n",
    "    print(\"Model saved in directory {dir:s}; create an archive of this directory and submit with your assignment.\".format(dir=model_path))\n",
    "    \n",
    "def loadModel(model_path):\n",
    "    # Reload the model from the 2 files we saved\n",
    "    with open(os.path.join(model_path, 'config.json')) as json_file:\n",
    "        json_config = json_file.read()\n",
    "    model = tf.keras.models.model_from_json(json_config)\n",
    "    model.load_weights(os.path.join(model_path, 'weights.h5'))\n",
    "    \n",
    "    return model\n",
    "\n",
    "def MyModel(x_test, y_test, model_path):\n",
    "    # YOU MAY NOT change model after this statement !\n",
    "    model = loadModel(model_path)\n",
    "    \n",
    "    # It should run model to create an array of predictions; we initialize it to the empty array for convenience\n",
    "    predictions = []\n",
    "    \n",
    "    probability_model = tf.keras.Sequential([model, \n",
    "                                         tf.keras.layers.Softmax()])\n",
    "    prediction = probability_model.predict(x_test)\n",
    "    predictions.append(prediction)\n",
    "    \n",
    "    \n",
    "    return predictions\n",
    "\n",
    "# Assign to variable my_model the model that solves task 3.2\n",
    "my_model = keras.Sequential([\n",
    "        keras.layers.Flatten(input_shape=(28, 28)),\n",
    "        keras.layers.Dense(50,activation='relu'),\n",
    "        keras.layers.Dense(50),\n",
    "        keras.layers.Dense(50)])\n",
    "\n",
    "saveModel(my_model, model_path)\n",
    "predicts = MyModel(x_test, y_test, model_path)\n"
   ]
  },
  {
   "cell_type": "markdown",
   "metadata": {},
   "source": [
    "# Extra credit\n",
    "- Do a more extensive experiment\n",
    "    - More layers\n",
    "    - More choices for number of units per layer\n",
    "    - Vary number of units per layer\n",
    "        - Increase number of units with increasing layer number\n",
    "        - Decrease number of units with increasing layer number\n",
    "        - Find some other pattern for varying the number of units per layer\n",
    "- Comment on when your models are either overfitting or underfitting\n",
    "    - Use numeric justification\n",
    "    "
   ]
  }
 ],
 "metadata": {
  "kernelspec": {
   "display_name": "Python 3",
   "language": "python",
   "name": "python3"
  },
  "language_info": {
   "codemirror_mode": {
    "name": "ipython",
    "version": 3
   },
   "file_extension": ".py",
   "mimetype": "text/x-python",
   "name": "python",
   "nbconvert_exporter": "python",
   "pygments_lexer": "ipython3",
   "version": "3.7.3"
  },
  "toc": {
   "base_numbering": 1,
   "nav_menu": {},
   "number_sections": true,
   "sideBar": true,
   "skip_h1_title": false,
   "title_cell": "Table of Contents",
   "title_sidebar": "Contents",
   "toc_cell": false,
   "toc_position": {},
   "toc_section_display": true,
   "toc_window_display": false
  }
 },
 "nbformat": 4,
 "nbformat_minor": 2
}
