{
 "cells": [
  {
   "cell_type": "code",
   "execution_count": 2,
   "metadata": {},
   "outputs": [
    {
     "data": {
      "image/png": "[encoded data removed]",
      "text/plain": [
       "<Figure size 432x288 with 1 Axes>"
      ]
     },
     "metadata": {},
     "output_type": "display_data"
    }
   ],
   "source": [
    "import matplotlib.pyplot as plt\n",
    "from matplotlib import style\n",
    "style.use('ggplot')\n",
    "import numpy as np\n",
    "\n",
    "X = np.array([[1, 2],\n",
    "              [1.5, 1.8],\n",
    "              [5, 8 ],\n",
    "              [8, 8],\n",
    "              [1, 0.6],\n",
    "              [9,11],\n",
    "              [8,2],\n",
    "              [10,2],\n",
    "              [9,3],])\n",
    "\n",
    "plt.scatter(X[:,0], X[:,1], s=150)\n",
    "plt.show()\n",
    "\n",
    "colors = 10*[\"g\",\"r\",\"c\",\"b\",\"k\"]"
   ]
  },
  {
   "cell_type": "code",
   "execution_count": 15,
   "metadata": {},
   "outputs": [],
   "source": [
    "class Mean_Shift:\n",
    "   # def __init__(self, radius=4): \n",
    "    #    self.radius = radius\n",
    "    # how we can optimize radius instead of setting it?\n",
    "    def __init__(self, radius=None, radius_norm_step = 100):\n",
    "        # radius_nore_step 代表着要迭代多少次radius，从而选取最优的radius\n",
    "        self.radius = radius\n",
    "        self.radius_norm_step = radius_norm_step\n",
    "    def fit(self,data):\n",
    "        if self.radius==None:\n",
    "            all_data_centroid=np.average(data,axis=0)\n",
    "            all_data_norm=np.linalg.norm(all_data_centroid)\n",
    "            self.radius=all_data_norm/self.radius_norm_step\n",
    "            \n",
    "        centroids={}\n",
    "        # Initialize Centroids:\n",
    "        for i in range(len(data)):\n",
    "            centroids[i]=data[i]\n",
    "            \n",
    "        weights=[i for i in range(self.radius_norm_step)][::-1]\n",
    "        \n",
    "        while True:\n",
    "            new_centroids=[]\n",
    "            for i in centroids:\n",
    "                in_bandwidth=[]\n",
    "                centroid=centroids[i]\n",
    "                # iterate the dataset to see if it fits in the radius of this centroid\n",
    "                \n",
    "                for featureset in data:\n",
    "                    #if np.linalg.norm(featureset-centroid) < self.radius:\n",
    "                    #    in_bandwidth.append(featureset)\n",
    "                    distance = np.linalg.norm(featureset-centroid)\n",
    "                    if distance == 0:\n",
    "                        distance = 0.00000000001\n",
    "                    weight_index = int(distance/self.radius)\n",
    "                    # weight_index represents how many steps we take from the centroid\n",
    "                    # weight_index larger, the point is quite far from this centroid\n",
    "                    \n",
    "                    # if the weight_index is larger than the upper limit of raius_norm_step,\n",
    "                    # we just use radius_norm_step to represent it\n",
    "                    if weight_index > self.radius_norm_step-1:\n",
    "                        weight_index = self.radius_norm_step-1\n",
    "\n",
    "                    to_add = (weights[weight_index]**2)*[featureset] # expand the dataset\n",
    "                    in_bandwidth +=to_add\n",
    "                    \n",
    "                    \n",
    "                new_centroid=np.average(in_bandwidth,axis=0)\n",
    "                new_centroids.append(tuple(new_centroid))\n",
    "                \n",
    "            uniques=sorted(list(set(new_centroids))) \n",
    "            # we want unique array instead of unique element, therefore we choose tuple and set\n",
    "            \n",
    "            # because we ues to_add to expand the dataset, there're more data\n",
    "            # some of them can be quite close to each other, but they are not the same\n",
    "            # therefore we define function to get rid of this problem:\n",
    "            to_pop = []\n",
    "\n",
    "            for i in uniques:\n",
    "                for ii in [i for i in uniques]:\n",
    "                    if i == ii:\n",
    "                        pass # literally itself, we should ignore\n",
    "                    elif np.linalg.norm(np.array(i)-np.array(ii)) <= self.radius:\n",
    "                        #print(np.array(i), np.array(ii))\n",
    "                        # i and ii belongs to one centroid\n",
    "                        to_pop.append(ii)\n",
    "                        break\n",
    "\n",
    "            for i in to_pop:\n",
    "                try:\n",
    "                    uniques.remove(i)\n",
    "                except:\n",
    "                    pass\n",
    "            \n",
    "            \n",
    "            prev_centroids=dict(centroids) #储存原有的中心点，与新中心点对比\n",
    "            \n",
    "            centroids={}\n",
    "            for i in range(len(uniques)): # 获取新的中心点\n",
    "                centroids[i]=np.array(uniques[i])\n",
    "                \n",
    "            optimized=True\n",
    "            for i in centroids:\n",
    "                if not np.array_equal(centroids[i],prev_centroids[i]):\n",
    "                    optimized=False\n",
    "                if not optimized:\n",
    "                    break #break the for loop，从while开始重新迭代\n",
    "            if optimized:\n",
    "                break # break the while loop\n",
    "        self.centroids=centroids\n",
    "        \n",
    "        self.classifications = {}\n",
    "\n",
    "        for i in range(len(self.centroids)):\n",
    "            self.classifications[i] = []\n",
    "            \n",
    "        for featureset in data:\n",
    "            #compare distance to either centroid\n",
    "            distances = [np.linalg.norm(featureset-self.centroids[centroid]) for centroid in self.centroids]\n",
    "            #print(distances)\n",
    "            classification = (distances.index(min(distances)))\n",
    "\n",
    "            # featureset that belongs to that cluster\n",
    "            self.classifications[classification].append(featureset)\n",
    "            \n",
    "            \n",
    "    def predict(self,data):\n",
    "        distances = [np.linalg.norm(featureset-self.centroids[centroid]) for centroid in self.centroids]\n",
    "            #print(distances)\n",
    "        classification = (distances.index(min(distances)))\n",
    "        return classification\n",
    "            "
   ]
  },
  {
   "cell_type": "code",
   "execution_count": 18,
   "metadata": {},
   "outputs": [
    {
     "name": "stdout",
     "output_type": "stream",
     "text": [
      "{0: array([1.18211438, 1.50109686]), 1: array([7.45598917, 8.44263203]), 2: array([8.97302521, 2.50551952])}\n"
     ]
    },
    {
     "data": {
      "image/png": "[encoded data removed]",
      "text/plain": [
       "<Figure size 432x288 with 1 Axes>"
      ]
     },
     "metadata": {},
     "output_type": "display_data"
    }
   ],
   "source": [
    "clf = Mean_Shift()\n",
    "clf.fit(X)\n",
    "\n",
    "centroids = clf.centroids\n",
    "print(centroids)\n",
    "\n",
    "colors = 10*['r','g','b','c','k','y']\n",
    "\n",
    "for classification in clf.classifications:\n",
    "    color = colors[classification]\n",
    "    for featureset in clf.classifications[classification]:\n",
    "        plt.scatter(featureset[0],featureset[1], marker = \"x\", color=color, s=150, linewidths = 5)\n",
    "\n",
    "for c in centroids:\n",
    "    plt.scatter(centroids[c][0],centroids[c][1], color='k', marker = \"*\", s=150)\n",
    "\n",
    "plt.show()"
   ]
  },
  {
   "cell_type": "code",
   "execution_count": 23,
   "metadata": {},
   "outputs": [
    {
     "name": "stdout",
     "output_type": "stream",
     "text": [
      "{0: array([-2.93690996,  9.18056102])}\n"
     ]
    },
    {
     "data": {
      "image/png": "[encoded data removed]",
      "text/plain": [
       "<Figure size 432x288 with 1 Axes>"
      ]
     },
     "metadata": {},
     "output_type": "display_data"
    }
   ],
   "source": [
    "from sklearn.datasets.samples_generator import make_blobs\n",
    "X, y = make_blobs(n_samples=50, centers=3, n_features=2)\n",
    "clf = Mean_Shift()\n",
    "clf.fit(X)\n",
    "\n",
    "centroids = clf.centroids\n",
    "print(centroids)\n",
    "\n",
    "colors = 10*['r','g','b','c','k','y']\n",
    "\n",
    "for classification in clf.classifications:\n",
    "    color = colors[classification]\n",
    "    for featureset in clf.classifications[classification]:\n",
    "        plt.scatter(featureset[0],featureset[1], marker = \"x\", color=color, s=150, linewidths = 5, zorder = 10)\n",
    "\n",
    "for c in centroids:\n",
    "    plt.scatter(centroids[c][0],centroids[c][1], color='k', marker = \"*\", s=150)\n",
    "\n",
    "plt.show()"
   ]
  },
  {
   "cell_type": "code",
   "execution_count": null,
   "metadata": {},
   "outputs": [],
   "source": []
  }
 ],
 "metadata": {
  "kernelspec": {
   "display_name": "Python 3",
   "language": "python",
   "name": "python3"
  },
  "language_info": {
   "codemirror_mode": {
    "name": "ipython",
    "version": 3
   },
   "file_extension": ".py",
   "mimetype": "text/x-python",
   "name": "python",
   "nbconvert_exporter": "python",
   "pygments_lexer": "ipython3",
   "version": "3.7.3"
  }
 },
 "nbformat": 4,
 "nbformat_minor": 2
}
