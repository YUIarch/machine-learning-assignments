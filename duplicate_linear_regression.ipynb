{
 "cells": [
  {
   "cell_type": "code",
   "execution_count": 12,
   "metadata": {},
   "outputs": [],
   "source": [
    "from statistics import mean\n",
    "import numpy as np\n",
    "import matplotlib.pyplot as plt\n",
    "import random\n"
   ]
  },
  {
   "cell_type": "code",
   "execution_count": 13,
   "metadata": {},
   "outputs": [
    {
     "name": "stdout",
     "output_type": "stream",
     "text": [
      "[-4.51341463 -2.47298311 -0.43255159  1.60787992  3.64831144  5.68874296\n",
      "  7.72917448  9.769606   11.81003752 13.85046904 15.89090056 17.93133208\n",
      " 19.9717636  22.01219512 24.05262664 26.09305816 28.13348968 30.1739212\n",
      " 32.21435272 34.25478424 36.29521576 38.33564728 40.3760788  42.41651032\n",
      " 44.45694184 46.49737336 48.53780488 50.5782364  52.61866792 54.65909944\n",
      " 56.69953096 58.73996248 60.780394   62.82082552 64.86125704 66.90168856\n",
      " 68.94212008 70.98255159 73.02298311 75.06341463]\n"
     ]
    },
    {
     "data": {
      "text/plain": [
       "<matplotlib.collections.PathCollection at 0x292fcd3f5c0>"
      ]
     },
     "execution_count": 13,
     "metadata": {},
     "output_type": "execute_result"
    },
    {
     "data": {
      "image/png": "[encoded data removed]",
      "text/plain": [
       "<Figure size 432x288 with 1 Axes>"
      ]
     },
     "metadata": {
      "needs_background": "light"
     },
     "output_type": "display_data"
    }
   ],
   "source": [
    "def create_dataset(hm,variance,step=2,correlation=False):\n",
    "    val=1\n",
    "    ys=[]\n",
    "    for i in range(hm):\n",
    "        y=val+random.randrange(-variance,variance)\n",
    "        ys.append(y)\n",
    "        if correlation and correlation=='pos':\n",
    "            val+=step\n",
    "        elif correlation and correlation=='neg':\n",
    "            val-=step\n",
    "        xs=[i for i in range(len (ys))]\n",
    "    return np.array(xs,dtype=np.float64),np.array(ys,dtype=np.float64)\n",
    "\n",
    "def best_fit_slope(xs,ys):\n",
    "    m=(mean(xs)*mean(ys)-mean(xs*ys))/(mean(xs)**2-mean(xs*xs)) #不能使用^2，type不匹配\n",
    "    b=mean(ys)-mean(xs)*m\n",
    "    return m,b\n",
    "\n",
    "xs,ys=create_dataset(40,40,2,correlation='pos')\n",
    "m,b=best_fit_slope(xs,ys)\n",
    "\n",
    "y_predict=m*xs+b\n",
    "print(y_predict)\n",
    "\n",
    "plt.plot(y_predict,xs)\n",
    "plt.scatter(ys,xs)"
   ]
  },
  {
   "cell_type": "code",
   "execution_count": 14,
   "metadata": {},
   "outputs": [],
   "source": [
    "def squared_error(ys_orig,ys_predict):\n",
    "    return sum((ys_orig-ys_predict)**2)\n",
    "def R_squared(ys_orig,ys_predict):\n",
    "    y_mean=[mean(ys_orig) for y in ys_orig]\n",
    "    squared_error_y_regr=squared_error(ys_orig,ys_predict)\n",
    "    squared_error_y_mean=squared_error(ys_orig,y_mean)\n",
    "    return 1-squared_error_y_regr/squared_error_y_mean"
   ]
  },
  {
   "cell_type": "code",
   "execution_count": 15,
   "metadata": {},
   "outputs": [
    {
     "name": "stdout",
     "output_type": "stream",
     "text": [
      "0.5497653041479513\n"
     ]
    }
   ],
   "source": [
    "r_squared=R_squared(ys,y_predict)\n",
    "print(r_squared)"
   ]
  },
  {
   "cell_type": "code",
   "execution_count": null,
   "metadata": {},
   "outputs": [],
   "source": []
  }
 ],
 "metadata": {
  "kernelspec": {
   "display_name": "Python 3",
   "language": "python",
   "name": "python3"
  },
  "language_info": {
   "codemirror_mode": {
    "name": "ipython",
    "version": 3
   },
   "file_extension": ".py",
   "mimetype": "text/x-python",
   "name": "python",
   "nbconvert_exporter": "python",
   "pygments_lexer": "ipython3",
   "version": "3.7.3"
  }
 },
 "nbformat": 4,
 "nbformat_minor": 2
}
